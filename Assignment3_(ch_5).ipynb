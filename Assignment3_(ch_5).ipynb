{
  "cells": [
    {
      "cell_type": "markdown",
      "metadata": {
        "id": "view-in-github",
        "colab_type": "text"
      },
      "source": [
        "<a href=\"https://colab.research.google.com/github/samirbehindscreen-jpg/DTSC3020/blob/main/Assignment3_(ch_5).ipynb\" target=\"_parent\"><img src=\"https://colab.research.google.com/assets/colab-badge.svg\" alt=\"Open In Colab\"/></a>"
      ]
    },
    {
      "cell_type": "markdown",
      "metadata": {
        "id": "nevCG4Qs0b8R"
      },
      "source": [
        "# DTSC 3020 – Assignment 3\n",
        "\n",
        "This exercise focuses on **if statements and conditional logic** in Python and is designed to help students practice decision-making structures.\n",
        "\n",
        "**Total points:** 5  \n",
        "**Deadline:** Friday at midnight  \n",
        "**Submission:** Upload your Python file to your GitHub repository and submit **only your GitHub link**.\n",
        "\n",
        "### Expectations\n",
        "- Write complete answers and run all cells before submission.\n",
        "- Keep the notebook clean (no unnecessary code).\n",
        "\n"
      ],
      "id": "nevCG4Qs0b8R"
    },
    {
      "cell_type": "markdown",
      "metadata": {
        "id": "gfumj0DY0b8f"
      },
      "source": [
        "## Question 1 – Movie Ticket System\n",
        "Write a Python code that checks the price of a movie ticket.\n",
        "If the age is between 0 and 11 it is Child, if between 12 and 17 it is Teen, and if 18 or older it is Adult.\n",
        "Print the category and the ticket price (you choose the price).\n",
        "Run the program with age = 16."
      ],
      "id": "gfumj0DY0b8f"
    },
    {
      "cell_type": "code",
      "metadata": {
        "id": "67TGDT6w0b8k",
        "colab": {
          "base_uri": "https://localhost:8080/"
        },
        "outputId": "e7760941-b47a-4985-c91b-f9fa0a066bc9"
      },
      "execution_count": 9,
      "outputs": [
        {
          "output_type": "stream",
          "name": "stdout",
          "text": [
            "enter your age16\n",
            "category:teen\n",
            "ticket price is $15\n"
          ]
        }
      ],
      "source": [
        "age=int(input(\"enter your age\"))\n",
        "Ticket1=\"$10\"\n",
        "Ticket2=\"$15\"\n",
        "Ticket3=\"$20\"\n",
        "if age>=0 and age<=11:\n",
        "  print(\"category:child\")\n",
        "  print(\"ticket price is\",Ticket1)\n",
        "elif age>=12 and age<=17:\n",
        "  print(\"category:teen\")\n",
        "  print(\"ticket price is\",Ticket2)\n",
        "elif age>=18:\n",
        "  print(\"category:adult\")\n",
        "  print(\"ticket price is\",Ticket3)\n",
        "else:\n",
        "  print(\"Invalid input\")\n",
        "\n",
        "\n",
        "\n",
        "\n"
      ],
      "id": "67TGDT6w0b8k"
    },
    {
      "cell_type": "markdown",
      "metadata": {
        "id": "_tUFNVKT0b8r"
      },
      "source": [
        "## Question 2 – Online Store Discount\n",
        "Write a Python code that applies a discount based on the shopping cart total.\n",
        "If the total is less than 50 dollars there is no discount, if the total is between 50 and 99 dollars there is a 10 percent discount, and if the total is 100 dollars or more there is a 20 percent discount.\n",
        "Print the original total, the discount, and the final price.\n",
        "Run the program with cart_total = 85."
      ],
      "id": "_tUFNVKT0b8r"
    },
    {
      "cell_type": "code",
      "metadata": {
        "id": "yTtX719o0b8v",
        "colab": {
          "base_uri": "https://localhost:8080/"
        },
        "outputId": "4e5a745b-85a3-437d-ecc1-e671ee783d7a"
      },
      "execution_count": 13,
      "outputs": [
        {
          "output_type": "stream",
          "name": "stdout",
          "text": [
            "This is a 10% discount\n"
          ]
        }
      ],
      "source": [
        "cart_total=85\n",
        "if cart_total<50:\n",
        "  print(\"there is no discount\")\n",
        "elif cart_total>=50 and cart_total<=99:\n",
        "  print(\"This is a 10% discount\")\n",
        "elif cart_total>=100:\n",
        "  print(\"There is a 20% discount\")\n",
        "else:\n",
        "  print(\"Invalid Input\")\n",
        "\n"
      ],
      "id": "yTtX719o0b8v"
    },
    {
      "cell_type": "markdown",
      "metadata": {
        "id": "uOUYYC870b8x"
      },
      "source": [
        "## Question 3 – Exam Grading\n",
        "Write a Python code that gives a letter grade for a score.\n",
        "If the score is between 90 and 100 the grade is A, if between 80 and 89 the grade is B, if between 70 and 79 the grade is C, if between 60 and 69 the grade is D, and if below 60 the grade is F.\n",
        "Print the grade and a short message.\n",
        "Run the program with score = 73."
      ],
      "id": "uOUYYC870b8x"
    },
    {
      "cell_type": "code",
      "metadata": {
        "id": "HDtf_YLG0b8y",
        "colab": {
          "base_uri": "https://localhost:8080/"
        },
        "outputId": "eb62ebf1-f122-4a6c-e285-b3f72478b0c5"
      },
      "execution_count": 14,
      "outputs": [
        {
          "output_type": "stream",
          "name": "stdout",
          "text": [
            "Your grade is C\n"
          ]
        }
      ],
      "source": [
        "score=73\n",
        "if score>=90 and score<=100:\n",
        "  print(\"Your grade is A\")\n",
        "elif score>=80 and score<=89:\n",
        "  print(\"Your grade is Bel\")\n",
        "elif score>=70 and score<=79:\n",
        "  print(\"Your grade is C\")\n",
        "elif score>=60 and score<=69:\n",
        "  print(\"Your grade is D\")\n",
        "elif score<60:\n",
        "  print(\"Your grade is F\")\n",
        "else:\n",
        "  print(\"invalid score\")\n",
        "\n",
        "\n"
      ],
      "id": "HDtf_YLG0b8y"
    },
    {
      "cell_type": "markdown",
      "metadata": {
        "id": "ZCIKM6Xs0b80"
      },
      "source": [
        "## Question 4 – Parking Fee\n",
        "Write a Python code that calculates parking fees.\n",
        "If the car is parked for 0 to 2 hours the parking is free, if the car is parked for 3 to 5 hours the fee is 3 dollars per hour, and if the car is parked for more than 5 hours the fee is 3 dollars per hour for the first three hours after free and then 5 dollars per hour for the rest.\n",
        "Print the number of hours and the total fee.\n",
        "Run the program with hours = 6."
      ],
      "id": "ZCIKM6Xs0b80"
    },
    {
      "cell_type": "code",
      "metadata": {
        "id": "g3a_sPo50b81",
        "colab": {
          "base_uri": "https://localhost:8080/"
        },
        "outputId": "51e0cd15-bf10-4c52-ab32-58cd6e25f0d1"
      },
      "execution_count": 18,
      "outputs": [
        {
          "output_type": "stream",
          "name": "stdout",
          "text": [
            "enter hours parked6\n",
            "total fee is: 15\n",
            "number of hours is: 6\n"
          ]
        }
      ],
      "source": [
        "hours=int(input(\"enter hours parked\"))\n",
        "totalfee=0\n",
        "if hours>0 and hours<=2:\n",
        "  print(\"The total fee is :\",totalfee)\n",
        "  print(\"the parking is free\")\n",
        "elif hours>=3 and hours<=5:\n",
        "  totalfee=hours*3\n",
        "  print(\"total fee is\",totalfee)\n",
        "  print(\"Number of hours is:\",hours)\n",
        "elif hours>5:\n",
        "  totalfee=(hours-3)*5\n",
        "  print(\"total fee is:\",totalfee)\n",
        "  print('number of hours is:',hours)\n",
        "else:\n",
        "  print(\"Invalid Input\")\n"
      ],
      "id": "g3a_sPo50b81"
    },
    {
      "cell_type": "markdown",
      "metadata": {
        "id": "XBf0-SPz0b83"
      },
      "source": [
        "## Question 5 – Cafeteria Menu\n",
        "Write a Python code that creates a list with three food items.\n",
        "Check if an order is in the list.\n",
        "If the item is in the list print a confirmation, and if the item is not in the list print a polite message.\n",
        "Run the program with menu = ['pizza','salad','sandwich'] and order = 'salad'."
      ],
      "id": "XBf0-SPz0b83"
    },
    {
      "cell_type": "code",
      "metadata": {
        "id": "y52UEMoX0b85",
        "colab": {
          "base_uri": "https://localhost:8080/"
        },
        "outputId": "b517a34e-0a9f-4b51-c363-04e0259793d7"
      },
      "execution_count": 21,
      "outputs": [
        {
          "output_type": "stream",
          "name": "stdout",
          "text": [
            "Yes!It is in the menu.\n"
          ]
        }
      ],
      "source": [
        "menu=['pizza','salad','sandwich']\n",
        "order='salad'\n",
        "if order in menu:\n",
        "  print(\"Yes!It is in the menu.\")\n",
        "else:\n",
        "  print(\"Sorry dear!We can't process your order\")"
      ],
      "id": "y52UEMoX0b85"
    },
    {
      "cell_type": "markdown",
      "metadata": {
        "id": "-60rL71F0b86"
      },
      "source": [
        "## Question 6 – Job Application Filter\n",
        "Write a Python code that checks if a person is eligible for a job.\n",
        "If the person is older than 22 and has more than 2 years of experience print Accepted.\n",
        "Otherwise print Not Accepted.\n",
        "Run the program with age = 23 and experience = 1."
      ],
      "id": "-60rL71F0b86"
    },
    {
      "cell_type": "code",
      "metadata": {
        "id": "-h964CqY0b88",
        "colab": {
          "base_uri": "https://localhost:8080/"
        },
        "outputId": "f00dd423-3955-437f-8888-3d62603b6b19"
      },
      "execution_count": 22,
      "outputs": [
        {
          "output_type": "stream",
          "name": "stdout",
          "text": [
            "enter your age23\n",
            "enter your experience1\n",
            "Not accepted\n"
          ]
        }
      ],
      "source": [
        "age=int(input(\"enter your age\"))\n",
        "experience=int(input(\"enter your experience\"))\n",
        "if age>=22 and experience>=2:\n",
        "  print(\"Accepted\")\n",
        "else:\n",
        "  print(\"Not accepted\")\n",
        "\n"
      ],
      "id": "-h964CqY0b88"
    },
    {
      "cell_type": "markdown",
      "metadata": {
        "id": "MOMMxnuE0b8-"
      },
      "source": [
        "## Question 7 – Clothing Advice\n",
        "Write a Python code that suggests clothing based on the temperature.\n",
        "If the temperature is below 10 print Coat and gloves, if the temperature is between 10 and 19 print Jacket, and if the temperature is 20 or more print T-shirt.\n",
        "Run the program with temperature = 15."
      ],
      "id": "MOMMxnuE0b8-"
    },
    {
      "cell_type": "code",
      "metadata": {
        "id": "V6RtrCOa0b8_",
        "colab": {
          "base_uri": "https://localhost:8080/"
        },
        "outputId": "f1190c88-9ae3-4bfb-c8c3-e9fe525723c4"
      },
      "execution_count": 26,
      "outputs": [
        {
          "output_type": "stream",
          "name": "stdout",
          "text": [
            "enter temperature15\n",
            "Jacket\n"
          ]
        }
      ],
      "source": [
        "temperature=int(input(\"enter temperature\"))\n",
        "if temperature<10:\n",
        "  print(\"Coat and gloves\")\n",
        "elif temperature<=19 and temperature>=10:\n",
        "  print(\"Jacket\")\n",
        "elif temperature>-20:\n",
        "  print(\"T-shirt\")\n",
        "else:\n",
        "  print(\"Invalid input\")"
      ],
      "id": "V6RtrCOa0b8_"
    },
    {
      "cell_type": "markdown",
      "metadata": {
        "id": "R-i9Jzpn0b9A"
      },
      "source": [
        "## Question 8 – Loan Eligibility\n",
        "Write a Python code that checks loan eligibility.\n",
        "If the salary is at least 3000 and the credit score is at least 650 print Loan Approved, otherwise print Loan Denied.\n",
        "Run the program with salary = 3500 and credit_score = 640."
      ],
      "id": "R-i9Jzpn0b9A"
    },
    {
      "cell_type": "code",
      "metadata": {
        "id": "2M0s0bC40b9B",
        "colab": {
          "base_uri": "https://localhost:8080/"
        },
        "outputId": "5515c1ec-30d9-452b-c44f-7ed7c88469c9"
      },
      "execution_count": 27,
      "outputs": [
        {
          "output_type": "stream",
          "name": "stdout",
          "text": [
            "enter your salary3500\n",
            "enter your credit score640\n",
            "Loan Denied\n"
          ]
        }
      ],
      "source": [
        "salary=int(input(\"enter your salary\"))\n",
        "credit_score=int(input(\"enter your credit score\"))\n",
        "if salary>=3000 and credit_score>=650:\n",
        "  print(\"Loan Aprroved\")\n",
        "else:\n",
        "  print(\"Loan Denied\")"
      ],
      "id": "2M0s0bC40b9B"
    },
    {
      "cell_type": "markdown",
      "metadata": {
        "id": "I0WmTyFv0b9D"
      },
      "source": [
        "## Question 9 – Password Strength\n",
        "Write a Python code that checks if a password is strong, medium, or weak based on its length.\n",
        "If the password has fewer than 6 characters it is Weak, if it has 6 to 10 characters it is Medium, and if it has more than 10 characters it is Strong.\n",
        "Print the strength.\n",
        "Run the program with password = 'hello123'."
      ],
      "id": "I0WmTyFv0b9D"
    },
    {
      "cell_type": "code",
      "metadata": {
        "id": "Jm8fu7ft0b9E",
        "colab": {
          "base_uri": "https://localhost:8080/"
        },
        "outputId": "a237c766-a753-4056-f488-cd8b89548e54"
      },
      "execution_count": 38,
      "outputs": [
        {
          "output_type": "stream",
          "name": "stdout",
          "text": [
            "enter your passwordhello123\n",
            " Medium\n"
          ]
        }
      ],
      "source": [
        "Password=(input(\"enter your password\"))\n",
        "if len(Password)<6:\n",
        "  print(\" Weak\")\n",
        "elif len(Password)<=10 and len(Password)>=6:\n",
        "  print(\" Medium\")\n",
        "if len(Password)>=10:\n",
        "  print(\" Strong\")"
      ],
      "id": "Jm8fu7ft0b9E"
    },
    {
      "cell_type": "markdown",
      "metadata": {
        "id": "kgKSm4WB0b9F"
      },
      "source": [
        "## Question 10 – Guest List Checker\n",
        "Write a Python code that creates a list with three invited guests.\n",
        "Define a variable for a guest name.\n",
        "Check if the guest name is in the list.\n",
        "If the guest is in the list print Welcome, and if the guest is not in the list print Not on the list.\n",
        "Run the program with guest = 'Sara'."
      ],
      "id": "kgKSm4WB0b9F"
    },
    {
      "cell_type": "code",
      "metadata": {
        "id": "4pyiTbMT0b9G",
        "colab": {
          "base_uri": "https://localhost:8080/"
        },
        "outputId": "36c8bcdf-d0eb-4d27-ecda-1a480e61dfe8"
      },
      "execution_count": 41,
      "outputs": [
        {
          "output_type": "stream",
          "name": "stdout",
          "text": [
            "Not on the list\n"
          ]
        }
      ],
      "source": [
        "Guest_list=['Shahrukh','Donald Trump','Joe rogan']\n",
        "guest='Sara'\n",
        "if guest in Guest_list:\n",
        "  print(\"Welcome\")\n",
        "else:\n",
        "  print(\"Not on the list\")\n"
      ],
      "id": "4pyiTbMT0b9G"
    }
  ],
  "metadata": {
    "kernelspec": {
      "display_name": "Python 3",
      "language": "python",
      "name": "python3"
    },
    "language_info": {
      "name": "python",
      "version": "3.x"
    },
    "colab": {
      "provenance": [],
      "include_colab_link": true
    }
  },
  "nbformat": 4,
  "nbformat_minor": 5
}
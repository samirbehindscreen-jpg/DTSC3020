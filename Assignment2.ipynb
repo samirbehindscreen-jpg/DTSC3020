{
  "nbformat": 4,
  "nbformat_minor": 0,
  "metadata": {
    "colab": {
      "provenance": [],
      "authorship_tag": "ABX9TyMB6wzJGWVmXSRlkT9HGz5D",
      "include_colab_link": true
    },
    "kernelspec": {
      "name": "python3",
      "display_name": "Python 3"
    },
    "language_info": {
      "name": "python"
    }
  },
  "cells": [
    {
      "cell_type": "markdown",
      "metadata": {
        "id": "view-in-github",
        "colab_type": "text"
      },
      "source": [
        "<a href=\"https://colab.research.google.com/github/samirbehindscreen-jpg/DTSC3020/blob/main/Assignment2.ipynb\" target=\"_parent\"><img src=\"https://colab.research.google.com/assets/colab-badge.svg\" alt=\"Open In Colab\"/></a>"
      ]
    },
    {
      "cell_type": "code",
      "source": [
        "#1\n",
        "fruits=[\"apple\",\"banana\",\"orange\"]\n",
        "print(fruits)\n",
        "print(fruits[0])\n",
        "print(fruits[1])\n",
        "print(fruits[2])"
      ],
      "metadata": {
        "id": "Q-YE6_QMZwKR",
        "colab": {
          "base_uri": "https://localhost:8080/"
        },
        "outputId": "fcf27835-4c97-4687-b525-c050b376fe78"
      },
      "execution_count": 8,
      "outputs": [
        {
          "output_type": "stream",
          "name": "stdout",
          "text": [
            "['apple', 'banana', 'orange']\n",
            "apple\n",
            "banana\n",
            "orange\n"
          ]
        }
      ]
    },
    {
      "cell_type": "code",
      "source": [
        "#2\n",
        "names=[\"samir\",\"ali\",\"charlie\",\"sushila\"]\n",
        "names[0]=\"baghdad\"\n",
        "print(names)\n"
      ],
      "metadata": {
        "colab": {
          "base_uri": "https://localhost:8080/"
        },
        "id": "eG4q5vRKa8Nj",
        "outputId": "8af7ae58-f3c8-4501-f8a3-7c4149d6a040"
      },
      "execution_count": 6,
      "outputs": [
        {
          "output_type": "stream",
          "name": "stdout",
          "text": [
            "['baghdad', 'ali', 'charlie', 'sushila']\n"
          ]
        }
      ]
    },
    {
      "cell_type": "code",
      "source": [
        "#3\n",
        "Vehicles=[\"Bronco\",\"Bugatti\",\"Porsche\",\"BMW\",\"mclaren\"]\n",
        "Vehicles.append(\"Mercedes\")\n",
        "print(Vehicles)"
      ],
      "metadata": {
        "colab": {
          "base_uri": "https://localhost:8080/"
        },
        "id": "WTF__IQCbZAe",
        "outputId": "c4100c88-cbc4-48de-f0fd-cb0523c619cd"
      },
      "execution_count": 7,
      "outputs": [
        {
          "output_type": "stream",
          "name": "stdout",
          "text": [
            "['Bronco', 'Bugatti', 'Porsche', 'BMW', 'mclaren', 'Mercedes']\n"
          ]
        }
      ]
    },
    {
      "cell_type": "code",
      "source": [
        "#4\n",
        "foods=[\"pizza\",\"lasagna\",\"sandwich\",\"rice\",\"Noodles\",\"Fries\"]\n",
        "foods.remove(\"rice\")\n",
        "print(foods)"
      ],
      "metadata": {
        "colab": {
          "base_uri": "https://localhost:8080/"
        },
        "id": "AFZGfThpcDqy",
        "outputId": "83a02c1a-9972-4813-af0e-aa216c7be7d6"
      },
      "execution_count": 9,
      "outputs": [
        {
          "output_type": "stream",
          "name": "stdout",
          "text": [
            "['pizza', 'lasagna', 'sandwich', 'Noodles', 'Fries']\n"
          ]
        }
      ]
    },
    {
      "cell_type": "code",
      "source": [
        "#5\n",
        "City=[\"Dallas\",\"Seattle\",\"Denver\",\"Butwal\"]\n",
        "City.sort()\n",
        "print(City)\n",
        "\n"
      ],
      "metadata": {
        "colab": {
          "base_uri": "https://localhost:8080/"
        },
        "id": "9k67oxUscxu1",
        "outputId": "fc5a7878-fa1e-4e21-841c-f285a9c02726"
      },
      "execution_count": 13,
      "outputs": [
        {
          "output_type": "stream",
          "name": "stdout",
          "text": [
            "['Butwal', 'Dallas', 'Denver', 'Seattle']\n"
          ]
        }
      ]
    },
    {
      "cell_type": "code",
      "source": [
        "#6\n",
        "Animals=[\"parrot\",\"lion\",\"tiger\"]\n",
        "for animal in Animals:\n",
        "  print(animal)\n",
        "\n"
      ],
      "metadata": {
        "colab": {
          "base_uri": "https://localhost:8080/"
        },
        "id": "f_oTr_yzc83b",
        "outputId": "ce6888bc-3aa3-4976-ecfe-14dd00ed3b36"
      },
      "execution_count": 14,
      "outputs": [
        {
          "output_type": "stream",
          "name": "stdout",
          "text": [
            "parrot\n",
            "lion\n",
            "tiger\n"
          ]
        }
      ]
    },
    {
      "cell_type": "code",
      "source": [
        "#7\n",
        "num=[1,2,3,4,5]\n",
        "for number in num:\n",
        "  print(number*2)"
      ],
      "metadata": {
        "colab": {
          "base_uri": "https://localhost:8080/"
        },
        "id": "3gsDBVCzePk4",
        "outputId": "5cf9dddf-bb10-4039-e240-5f84106e763a"
      },
      "execution_count": 16,
      "outputs": [
        {
          "output_type": "stream",
          "name": "stdout",
          "text": [
            "2\n",
            "4\n",
            "6\n",
            "8\n",
            "10\n"
          ]
        }
      ]
    },
    {
      "cell_type": "code",
      "source": [
        "#8\n",
        "friends=[\"chris\",\"ironman\",\"Sidney\",\"Adriana\",\"lucas\",\"Liza\"]\n",
        "print(friends[:3])\n",
        "print(friends[-3:])\n",
        "\n"
      ],
      "metadata": {
        "colab": {
          "base_uri": "https://localhost:8080/"
        },
        "id": "r4ew0rKve9E0",
        "outputId": "c3ad99b8-0199-4ee3-f1ba-2cce150b0d56"
      },
      "execution_count": 17,
      "outputs": [
        {
          "output_type": "stream",
          "name": "stdout",
          "text": [
            "['chris', 'ironman', 'Sidney']\n",
            "['Adriana', 'lucas', 'Liza']\n"
          ]
        }
      ]
    },
    {
      "cell_type": "code",
      "source": [
        "#9\n",
        "num=list(range(1,11))\n",
        "print(num)"
      ],
      "metadata": {
        "colab": {
          "base_uri": "https://localhost:8080/"
        },
        "id": "c78h1KnHgPM4",
        "outputId": "2bb94d6e-1139-4c92-c6c7-644097407827"
      },
      "execution_count": 18,
      "outputs": [
        {
          "output_type": "stream",
          "name": "stdout",
          "text": [
            "[1, 2, 3, 4, 5, 6, 7, 8, 9, 10]\n"
          ]
        }
      ]
    },
    {
      "cell_type": "code",
      "source": [
        "#10\n",
        "square=[x**2 for x in range(1,6)]\n",
        "print(square)"
      ],
      "metadata": {
        "colab": {
          "base_uri": "https://localhost:8080/"
        },
        "id": "Sju_IJxwglVL",
        "outputId": "e7c528a3-d931-431f-b232-b02f1eeb0534"
      },
      "execution_count": 19,
      "outputs": [
        {
          "output_type": "stream",
          "name": "stdout",
          "text": [
            "[1, 4, 9, 16, 25]\n"
          ]
        }
      ]
    }
  ]
}